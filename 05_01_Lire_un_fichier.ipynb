{
 "cells": [
  {
   "cell_type": "markdown",
   "metadata": {},
   "source": [
    "# Lire un fichier"
   ]
  },
  {
   "cell_type": "code",
   "execution_count": 7,
   "metadata": {},
   "outputs": [],
   "source": [
    "import csv"
   ]
  },
  {
   "cell_type": "code",
   "execution_count": 8,
   "metadata": {},
   "outputs": [
    {
     "name": "stdout",
     "output_type": "stream",
     "text": [
      "['ï»¿nom', 'prenom', 'age']\n",
      "['Durand', 'Jean', '30']\n",
      "['Dupont', 'Martin', '20']\n",
      "['Patou', 'Alison', '32']\n"
     ]
    }
   ],
   "source": [
    "with open(\"Clients.csv\") as fichier_csv:\n",
    "    reader = csv.reader(fichier_csv, delimiter = ',')\n",
    "    for ligne in reader:\n",
    "        print(ligne)"
   ]
  }
 ],
 "metadata": {
  "kernelspec": {
   "display_name": "Python 3",
   "language": "python",
   "name": "python3"
  },
  "language_info": {
   "codemirror_mode": {
    "name": "ipython",
    "version": 3
   },
   "file_extension": ".py",
   "mimetype": "text/x-python",
   "name": "python",
   "nbconvert_exporter": "python",
   "pygments_lexer": "ipython3",
   "version": "3.6.4"
  }
 },
 "nbformat": 4,
 "nbformat_minor": 2
}
